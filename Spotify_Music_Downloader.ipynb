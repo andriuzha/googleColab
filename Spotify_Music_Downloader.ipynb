{
  "nbformat": 4,
  "nbformat_minor": 0,
  "metadata": {
    "colab": {
      "provenance": [],
      "include_colab_link": true
    },
    "kernelspec": {
      "name": "python3",
      "display_name": "Python 3"
    },
    "language_info": {
      "name": "python"
    }
  },
  "cells": [
    {
      "cell_type": "markdown",
      "metadata": {
        "id": "view-in-github",
        "colab_type": "text"
      },
      "source": [
        "<a href=\"https://colab.research.google.com/github/andriuzha/googleColab/blob/main/Spotify_Music_Downloader.ipynb\" target=\"_parent\"><img src=\"https://colab.research.google.com/assets/colab-badge.svg\" alt=\"Open In Colab\"/></a>"
      ]
    },
    {
      "cell_type": "code",
      "source": [
        "#@title <b> Requisitos de instalación </b></strong>\n",
        "from IPython.display import clear_output\n",
        "print(f'\\033[92mInstalando requisitos\\033[0m\\n')\n",
        "!apt-get upgrade\n",
        "!pip install spotdl==v4.1.10\n",
        "from google.colab import drive\n",
        "drive.mount('/gdrive')\n",
        "clear_output()"
      ],
      "metadata": {
        "cellView": "form",
        "id": "eWMuCbPVYsDm"
      },
      "execution_count": null,
      "outputs": []
    },
    {
      "cell_type": "code",
      "source": [
        "#@title <b> Descarga </b></strong>\n",
        "#@markdown **Ingresa el link de la canción**\n",
        "#@markdown </br> _@andriuzha_\n",
        "url = \"\" #@param {type:\"string\"}\n",
        "##############\n",
        "print(f'\\033[92mDescargando...\\033[0m\\n')\n",
        "!cd /gdrive/MyDrive/musicSpotify\n",
        "!spotdl {url} --audio youtube-music --format mp3 --output \"/gdrive/MyDrive/musicSpotify\"\n",
        "print('\\n\\033[93mREAD:\\033[0m \\033[1mProceso completado.\\033[0m')\n"
      ],
      "metadata": {
        "id": "bCKgejuthbOm",
        "cellView": "form"
      },
      "execution_count": null,
      "outputs": []
    }
  ]
}